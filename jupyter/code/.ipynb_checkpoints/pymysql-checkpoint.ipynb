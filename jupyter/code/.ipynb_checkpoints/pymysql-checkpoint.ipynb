{
 "cells": [
  {
   "cell_type": "code",
   "execution_count": 1,
   "id": "f8ec172a",
   "metadata": {},
   "outputs": [
    {
     "data": {
      "text/plain": [
       "32"
      ]
     },
     "execution_count": 1,
     "metadata": {},
     "output_type": "execute_result"
    }
   ],
   "source": [
    "2 ** 5"
   ]
  },
  {
   "cell_type": "code",
   "execution_count": 2,
   "id": "a637b715",
   "metadata": {},
   "outputs": [],
   "source": [
    "def exponential(digit, exponent):\n",
    "    value = digit ** exponent\n",
    "    return value"
   ]
  },
  {
   "cell_type": "code",
   "execution_count": 3,
   "id": "b9f1e11e",
   "metadata": {},
   "outputs": [
    {
     "name": "stdout",
     "output_type": "stream",
     "text": [
      "27\n"
     ]
    }
   ],
   "source": [
    "print(exponential(3, 3))"
   ]
  },
  {
   "cell_type": "code",
   "execution_count": 4,
   "id": "670d4c7a",
   "metadata": {},
   "outputs": [
    {
     "name": "stdout",
     "output_type": "stream",
     "text": [
      "27.0\n"
     ]
    }
   ],
   "source": [
    "import math\n",
    "n = math.pow(3,3)\n",
    "print(n)"
   ]
  },
  {
   "cell_type": "code",
   "execution_count": 8,
   "id": "d8864d06",
   "metadata": {},
   "outputs": [
    {
     "data": {
      "text/plain": [
       "120"
      ]
     },
     "execution_count": 8,
     "metadata": {},
     "output_type": "execute_result"
    }
   ],
   "source": [
    "# factorial (ex. 5! == 1x2x3x4x5)\n",
    "math.factorial(5)"
   ]
  },
  {
   "cell_type": "code",
   "execution_count": 16,
   "id": "a74be6ec",
   "metadata": {},
   "outputs": [
    {
     "name": "stdout",
     "output_type": "stream",
     "text": [
      "1 : 2.23606797749979\n",
      "2 : 120\n"
     ]
    }
   ],
   "source": [
    "from math import sqrt, factorial\n",
    "# 5의 root 를 계산하는 함수(sqrt)\n",
    "n = sqrt(5)\n",
    "n2 = factorial(5)\n",
    "print(f\"1 : {n}\\n2 : {n2}\")"
   ]
  },
  {
   "cell_type": "code",
   "execution_count": 17,
   "id": "1d5cad3b",
   "metadata": {},
   "outputs": [
    {
     "name": "stdout",
     "output_type": "stream",
     "text": [
      "8.23606797749979\n"
     ]
    }
   ],
   "source": [
    "from math import *\n",
    "num = sqrt(5) + factorial(3)\n",
    "print(num)"
   ]
  },
  {
   "cell_type": "code",
   "execution_count": 18,
   "id": "1cd26e4e",
   "metadata": {},
   "outputs": [
    {
     "name": "stdout",
     "output_type": "stream",
     "text": [
      "120\n"
     ]
    }
   ],
   "source": [
    "import math as dave\n",
    "num = dave.factorial(5)\n",
    "print(num)"
   ]
  },
  {
   "cell_type": "code",
   "execution_count": 19,
   "id": "6b8e461c",
   "metadata": {},
   "outputs": [
    {
     "name": "stdout",
     "output_type": "stream",
     "text": [
      "120\n"
     ]
    }
   ],
   "source": [
    "from math import factorial as f\n",
    "num = f(5)\n",
    "print(num)"
   ]
  },
  {
   "cell_type": "code",
   "execution_count": 34,
   "id": "7869bcef",
   "metadata": {},
   "outputs": [],
   "source": [
    "import pymysql\n",
    "db = pymysql.connect(host=\"mariadb\", port=3306, user=\"root\", passwd=\"1234\", db=\"devdb\", charset=\"utf8\")"
   ]
  },
  {
   "cell_type": "code",
   "execution_count": 38,
   "id": "2bb37c43",
   "metadata": {},
   "outputs": [],
   "source": [
    "cursor = db.cursor()"
   ]
  },
  {
   "cell_type": "code",
   "execution_count": 39,
   "id": "c9a03a9b",
   "metadata": {},
   "outputs": [],
   "source": [
    "sql = \"\"\"\n",
    "    CREATE TABLE product(\n",
    "        product_code varchar(20) NOT NULL PRIMARY KEY,\n",
    "        title varchar(200) NOT NULL,\n",
    "        ori_price int,\n",
    "        discount_price int,\n",
    "        delivery varchar(10)\n",
    "    );\n",
    "\"\"\""
   ]
  },
  {
   "cell_type": "code",
   "execution_count": 40,
   "id": "72f5e70f",
   "metadata": {},
   "outputs": [
    {
     "data": {
      "text/plain": [
       "0"
      ]
     },
     "execution_count": 40,
     "metadata": {},
     "output_type": "execute_result"
    }
   ],
   "source": [
    "cursor.execute(sql)"
   ]
  },
  {
   "cell_type": "code",
   "execution_count": 43,
   "id": "c6deb219",
   "metadata": {},
   "outputs": [],
   "source": [
    "db.commit()"
   ]
  },
  {
   "cell_type": "code",
   "execution_count": 44,
   "id": "6f547d2f",
   "metadata": {},
   "outputs": [],
   "source": [
    "db.close()"
   ]
  },
  {
   "cell_type": "code",
   "execution_count": 46,
   "id": "866fc99b",
   "metadata": {},
   "outputs": [],
   "source": [
    "import pymysql as ps\n",
    "db = ps.connect(host=\"mariadb\", port=3306, user=\"root\", passwd=\"1234\", db=\"devdb\", charset=\"utf8\")\n",
    "cs = db.cursor()\n",
    "sql = \"\"\"\n",
    "    create table korea(\n",
    "        id int not null primary key,\n",
    "        name varchar(20) not null,\n",
    "        model_num varchar(10) not null,\n",
    "        model_type varchar(10) not null\n",
    "    );\n",
    "\"\"\"\n",
    "cs.execute(sql)\n",
    "db.commit()\n",
    "db.close()"
   ]
  },
  {
   "cell_type": "code",
   "execution_count": 67,
   "id": "6961f399",
   "metadata": {},
   "outputs": [],
   "source": [
    "import pymysql as ps\n",
    "db = ps.connect(host=\"mariadb\", port=3306, user=\"root\", passwd=\"1234\", db=\"devdb\", charset=\"utf8\")\n",
    "cs = db.cursor()\n",
    "for index in range(4):\n",
    "    product_code = 20200420 + index + 1\n",
    "    sql = \"\"\"\n",
    "        insert into product values ('\"\"\" + str(product_code) + \"\"\"', \"asdf\", 20000, 20000, \"A\")\n",
    "    \"\"\"\n",
    "    cs.execute(sql)\n",
    "    \n",
    "db.commit()\n",
    "db.close()"
   ]
  },
  {
   "cell_type": "code",
   "execution_count": 70,
   "id": "3c0ea333",
   "metadata": {},
   "outputs": [
    {
     "name": "stdout",
     "output_type": "stream",
     "text": [
      "{('20200415', 'asdf', 20000, 20000, 'A')}\n",
      "{('20200416', 'asdf', 20000, 20000, 'A')}\n",
      "{('20200421', 'asdf', 20000, 20000, 'A')}\n",
      "{('20200422', 'asdf', 20000, 20000, 'A')}\n",
      "{('20200423', 'asdf', 20000, 20000, 'A')}\n",
      "{('20200424', 'asdf', 20000, 20000, 'A')}\n",
      "{('20200425', 'asdf', 20000, 20000, 'A')}\n"
     ]
    }
   ],
   "source": [
    "import pymysql\n",
    "db = pymysql.connect(host=\"mariadb\", port=3306, user=\"root\", passwd=\"1234\", db=\"devdb\", charset=\"utf8\")\n",
    "cursor = db.cursor()\n",
    "sql = \"select * from product;\"\n",
    "cursor.execute(sql)\n",
    " \n",
    "result = cursor.fetchall()\n",
    "#result = cursor.fetchone()\n",
    "\n",
    "\n",
    "for record in result:\n",
    "    print({record})\n",
    "db.close()"
   ]
  },
  {
   "cell_type": "code",
   "execution_count": 73,
   "id": "1eca1c9c",
   "metadata": {},
   "outputs": [],
   "source": [
    "import pymysql as ps\n",
    "db = ps.connect(host=\"mariadb\", port=3306, user=\"root\", passwd=\"1234\", db=\"devdb\", charset=\"utf8\")\n",
    "cursor = db.cursor()\n",
    "sql = \"\"\"\n",
    "    update product set delivery = 'B' where product_code = '20200416'\n",
    "\"\"\"\n",
    "cursor.execute(sql)\n",
    "db.commit()\n",
    "db.close()"
   ]
  },
  {
   "cell_type": "code",
   "execution_count": 74,
   "id": "19ee197d",
   "metadata": {},
   "outputs": [],
   "source": [
    "import pymysql\n",
    "db = pymysql.connect(host=\"mariadb\", port=3306, user=\"root\", passwd=\"1234\", db=\"devdb\", charset=\"utf8\")\n",
    "cursor = db.cursor()\n",
    "sql = \"\"\" delete from product where product_code='20200425'\"\"\"\n",
    "cursor.execute(sql)\n",
    "db.commit()\n",
    "db.close()\n"
   ]
  },
  {
   "cell_type": "code",
   "execution_count": 76,
   "id": "c30a9d19",
   "metadata": {},
   "outputs": [
    {
     "ename": "SyntaxError",
     "evalue": "invalid syntax (<ipython-input-76-1971c0d519d9>, line 1)",
     "output_type": "error",
     "traceback": [
      "\u001b[0;36m  File \u001b[0;32m\"<ipython-input-76-1971c0d519d9>\"\u001b[0;36m, line \u001b[0;32m1\u001b[0m\n\u001b[0;31m    DROP schema IF EXISTS student_mgmt;\u001b[0m\n\u001b[0m              ^\u001b[0m\n\u001b[0;31mSyntaxError\u001b[0m\u001b[0;31m:\u001b[0m invalid syntax\n"
     ]
    }
   ],
   "source": [
    "DROP SCHEMA IF EXISTS student_mgmt;\n",
    "CREATE SCHEMA student_mgmt;\n",
    "use student_mgmt;\n",
    "DROP TABLE IF EXISTS students;\n",
    "CREATE TABLE students(\n",
    "    id TINYINT NOT NULL AUTO_INCREMENT PRIMARY KEY,\n",
    "    name VARCHAR(10) NOT NULL,\n",
    "    gender ENUM('man', 'woman') NOT NULL,\n",
    "    birth DATE NOT NULL,\n",
    "    english TINYINT NOT NULL,\n",
    "    math TINYINT NOT NULL,\n",
    "    korean TINYINT NOT NULL\n",
    ");\n",
    "\n",
    "INSERT INTO students (name, gender, birth, english, math, korean) VALUES ('ray', 'man', '1989-08-15', 90, 80, 81);\n",
    "INSERT INTO students (name, gender, birth, english, math, korean) VALUES ('aaa', 'man', '1989-01-15', 80, 70, 82);\n",
    "INSERT INTO students (name, gender, birth, english, math, korean) VALUES ('bbb', 'woman', '1989-02-15', 70, 60, 83);\n",
    "INSERT INTO students (name, gender, birth, english, math, korean) VALUES ('ccc', 'man', '1989-03-15', 60, 50, 84);\n",
    "INSERT INTO students (name, gender, birth, english, math, korean) VALUES ('ddd', 'woman', '1989-04-15', 50, 40, 85);\n",
    "INSERT INTO students (name, gender, birth, english, math, korean) VALUES ('fff', 'man', '1989-05-15', 40, 30, 86);\n",
    "INSERT INTO students (name, gender, birth, english, math, korean) VALUES ('ggg', 'man', '1989-06-15', 30, 10, 87);"
   ]
  },
  {
   "cell_type": "code",
   "execution_count": 77,
   "id": "b1ab37ea",
   "metadata": {},
   "outputs": [],
   "source": [
    "import pymysql\n",
    "import pandas as pd"
   ]
  },
  {
   "cell_type": "code",
   "execution_count": 78,
   "id": "067d6d72",
   "metadata": {},
   "outputs": [],
   "source": [
    "host_name = \"mariadb\"\n",
    "host_port = 3306\n",
    "username = 'root'\n",
    "password = '1234'\n",
    "database_name = 'student_mgmt'"
   ]
  },
  {
   "cell_type": "code",
   "execution_count": 79,
   "id": "a3b88a9d",
   "metadata": {},
   "outputs": [],
   "source": [
    "db = pymysql.connect (\n",
    "    host=host_name,\n",
    "    port=host_port,\n",
    "    user=username,\n",
    "    passwd=password,\n",
    "    db=database_name,\n",
    "    charset='utf8'\n",
    ")"
   ]
  },
  {
   "cell_type": "code",
   "execution_count": 80,
   "id": "e9f0f309",
   "metadata": {},
   "outputs": [],
   "source": [
    "sql = \"show tables\""
   ]
  },
  {
   "cell_type": "code",
   "execution_count": 81,
   "id": "30fe1ab4",
   "metadata": {},
   "outputs": [],
   "source": [
    "df = pd.read_sql(sql, db)"
   ]
  },
  {
   "cell_type": "code",
   "execution_count": 82,
   "id": "2ef00f5e",
   "metadata": {},
   "outputs": [
    {
     "data": {
      "text/html": [
       "<div>\n",
       "<style scoped>\n",
       "    .dataframe tbody tr th:only-of-type {\n",
       "        vertical-align: middle;\n",
       "    }\n",
       "\n",
       "    .dataframe tbody tr th {\n",
       "        vertical-align: top;\n",
       "    }\n",
       "\n",
       "    .dataframe thead th {\n",
       "        text-align: right;\n",
       "    }\n",
       "</style>\n",
       "<table border=\"1\" class=\"dataframe\">\n",
       "  <thead>\n",
       "    <tr style=\"text-align: right;\">\n",
       "      <th></th>\n",
       "      <th>Tables_in_student_mgmt</th>\n",
       "    </tr>\n",
       "  </thead>\n",
       "  <tbody>\n",
       "    <tr>\n",
       "      <th>0</th>\n",
       "      <td>students</td>\n",
       "    </tr>\n",
       "  </tbody>\n",
       "</table>\n",
       "</div>"
      ],
      "text/plain": [
       "  Tables_in_student_mgmt\n",
       "0               students"
      ]
     },
     "execution_count": 82,
     "metadata": {},
     "output_type": "execute_result"
    }
   ],
   "source": [
    "df"
   ]
  },
  {
   "cell_type": "code",
   "execution_count": 83,
   "id": "377c23c6",
   "metadata": {},
   "outputs": [
    {
     "data": {
      "text/html": [
       "<div>\n",
       "<style scoped>\n",
       "    .dataframe tbody tr th:only-of-type {\n",
       "        vertical-align: middle;\n",
       "    }\n",
       "\n",
       "    .dataframe tbody tr th {\n",
       "        vertical-align: top;\n",
       "    }\n",
       "\n",
       "    .dataframe thead th {\n",
       "        text-align: right;\n",
       "    }\n",
       "</style>\n",
       "<table border=\"1\" class=\"dataframe\">\n",
       "  <thead>\n",
       "    <tr style=\"text-align: right;\">\n",
       "      <th></th>\n",
       "      <th>id</th>\n",
       "      <th>name</th>\n",
       "      <th>gender</th>\n",
       "      <th>birth</th>\n",
       "      <th>english</th>\n",
       "      <th>math</th>\n",
       "      <th>korean</th>\n",
       "    </tr>\n",
       "  </thead>\n",
       "  <tbody>\n",
       "    <tr>\n",
       "      <th>0</th>\n",
       "      <td>1</td>\n",
       "      <td>ray</td>\n",
       "      <td>man</td>\n",
       "      <td>1989-08-15</td>\n",
       "      <td>90</td>\n",
       "      <td>80</td>\n",
       "      <td>81</td>\n",
       "    </tr>\n",
       "    <tr>\n",
       "      <th>1</th>\n",
       "      <td>2</td>\n",
       "      <td>aaa</td>\n",
       "      <td>man</td>\n",
       "      <td>1989-01-15</td>\n",
       "      <td>80</td>\n",
       "      <td>70</td>\n",
       "      <td>82</td>\n",
       "    </tr>\n",
       "    <tr>\n",
       "      <th>2</th>\n",
       "      <td>3</td>\n",
       "      <td>bbb</td>\n",
       "      <td>woman</td>\n",
       "      <td>1989-02-15</td>\n",
       "      <td>70</td>\n",
       "      <td>60</td>\n",
       "      <td>83</td>\n",
       "    </tr>\n",
       "    <tr>\n",
       "      <th>3</th>\n",
       "      <td>4</td>\n",
       "      <td>ccc</td>\n",
       "      <td>man</td>\n",
       "      <td>1989-03-15</td>\n",
       "      <td>60</td>\n",
       "      <td>50</td>\n",
       "      <td>84</td>\n",
       "    </tr>\n",
       "    <tr>\n",
       "      <th>4</th>\n",
       "      <td>5</td>\n",
       "      <td>ddd</td>\n",
       "      <td>woman</td>\n",
       "      <td>1989-04-15</td>\n",
       "      <td>50</td>\n",
       "      <td>40</td>\n",
       "      <td>85</td>\n",
       "    </tr>\n",
       "    <tr>\n",
       "      <th>5</th>\n",
       "      <td>6</td>\n",
       "      <td>fff</td>\n",
       "      <td>man</td>\n",
       "      <td>1989-05-15</td>\n",
       "      <td>40</td>\n",
       "      <td>30</td>\n",
       "      <td>86</td>\n",
       "    </tr>\n",
       "    <tr>\n",
       "      <th>6</th>\n",
       "      <td>7</td>\n",
       "      <td>ggg</td>\n",
       "      <td>man</td>\n",
       "      <td>1989-06-15</td>\n",
       "      <td>30</td>\n",
       "      <td>10</td>\n",
       "      <td>87</td>\n",
       "    </tr>\n",
       "  </tbody>\n",
       "</table>\n",
       "</div>"
      ],
      "text/plain": [
       "   id name gender       birth  english  math  korean\n",
       "0   1  ray    man  1989-08-15       90    80      81\n",
       "1   2  aaa    man  1989-01-15       80    70      82\n",
       "2   3  bbb  woman  1989-02-15       70    60      83\n",
       "3   4  ccc    man  1989-03-15       60    50      84\n",
       "4   5  ddd  woman  1989-04-15       50    40      85\n",
       "5   6  fff    man  1989-05-15       40    30      86\n",
       "6   7  ggg    man  1989-06-15       30    10      87"
      ]
     },
     "execution_count": 83,
     "metadata": {},
     "output_type": "execute_result"
    }
   ],
   "source": [
    "sql = \"select * from students\"\n",
    "df = pd.read_sql(sql, db)\n",
    "df"
   ]
  },
  {
   "cell_type": "code",
   "execution_count": 85,
   "id": "7dff6670",
   "metadata": {},
   "outputs": [],
   "source": [
    "# csv 파일 만들기\n",
    "sql = \"select * from students\"\n",
    "df = pd.read_sql(sql, db)\n",
    "#df.to_csv('students.csv', sep=',', encoding='utf-8')\n",
    "df.to_csv('students.csv', sep=',', index=False, encoding='utf-8')"
   ]
  },
  {
   "cell_type": "code",
   "execution_count": null,
   "id": "33b0d9d2",
   "metadata": {},
   "outputs": [],
   "source": []
  }
 ],
 "metadata": {
  "kernelspec": {
   "display_name": "Python 3",
   "language": "python",
   "name": "python3"
  },
  "language_info": {
   "codemirror_mode": {
    "name": "ipython",
    "version": 3
   },
   "file_extension": ".py",
   "mimetype": "text/x-python",
   "name": "python",
   "nbconvert_exporter": "python",
   "pygments_lexer": "ipython3",
   "version": "3.7.9"
  }
 },
 "nbformat": 4,
 "nbformat_minor": 5
}
